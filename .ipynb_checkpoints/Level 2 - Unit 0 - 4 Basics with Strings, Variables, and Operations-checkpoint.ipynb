{
 "cells": [
  {
   "cell_type": "markdown",
   "metadata": {},
   "source": [
    "# Unit 0.4 - Basics"
   ]
  },
  {
   "cell_type": "markdown",
   "metadata": {},
   "source": [
    "# Strings and f-strings\n",
    "\n",
    "Strings are datatypes that are a collection of characters.\n",
    "\n",
    "we user `\"` (double quotes) to surround our strings.\n",
    "\n",
    "## What does f stand for?\n",
    "\n",
    "F stands for **fast**."
   ]
  },
  {
   "cell_type": "code",
   "execution_count": 15,
   "metadata": {},
   "outputs": [
    {
     "name": "stdout",
     "output_type": "stream",
     "text": [
      "This is a regular string\n",
      "This is a f-string\n",
      "you can do maths in f-strings\n",
      "Do math inside braces: 2\n"
     ]
    }
   ],
   "source": [
    "print(\"This is a regular string\")\n",
    "print(f\"This is a f-string\")\n",
    "print(f\"you can do maths in f-strings\")\n",
    "\n",
    "print(f\"Do math inside braces: {1+1}\")"
   ]
  },
  {
   "cell_type": "markdown",
   "metadata": {},
   "source": [
    "## Operations in f-strings\n",
    "We use {} or **braces** to evaluate expressions inside of f-strings.\n",
    "\n",
    "### Using the Math Module\n",
    "We can import the Math module to help us calculate things\n",
    "\n",
    "https://docs.python.org/3/library/math.html\n"
   ]
  },
  {
   "cell_type": "code",
   "execution_count": 2,
   "metadata": {},
   "outputs": [
    {
     "name": "stdout",
     "output_type": "stream",
     "text": [
      "0.0\n",
      "The GCD of 10 and 688 is 2\n",
      "The square root of 24 is 4.898979485566356\n"
     ]
    }
   ],
   "source": [
    "# print(1 + 1)\n",
    "\n",
    "import math\n",
    "print(math.sin(0))\n",
    "print(f\"The GCD of 10 and 688 is {math.gcd(10, 688)}\")\n",
    "print(f\"The square root of 24 is {math.sqrt(24)}\")"
   ]
  },
  {
   "cell_type": "markdown",
   "metadata": {
    "tags": []
   },
   "source": [
    "## String Slices"
   ]
  },
  {
   "cell_type": "code",
   "execution_count": 4,
   "metadata": {},
   "outputs": [
    {
     "name": "stdout",
     "output_type": "stream",
     "text": [
      "T\n",
      "The \n"
     ]
    }
   ],
   "source": [
    "# Substring\n",
    "s = \"The quick brown fox jumps over the lazy dog.\"\n",
    "\n",
    "print(s[0])\n",
    "print(s[:4])"
   ]
  },
  {
   "cell_type": "code",
   "execution_count": 8,
   "metadata": {},
   "outputs": [
    {
     "name": "stdout",
     "output_type": "stream",
     "text": [
      "T\n",
      ".\n",
      ".\n",
      "g\n"
     ]
    }
   ],
   "source": [
    "s = \"The quick brown fox jumps over the lazy dog.\"\n",
    "\n",
    "# First\n",
    "print(s[0])\n",
    "\n",
    "# Last\n",
    "print(s[-1])\n",
    "print(s[len(s)-1])\n",
    "print(s[-2]) # Second last"
   ]
  },
  {
   "cell_type": "code",
   "execution_count": 19,
   "metadata": {},
   "outputs": [
    {
     "name": "stdout",
     "output_type": "stream",
     "text": [
      "The\n",
      "quick\n",
      "dog\n",
      "fox jumps over the lazy dog.\n",
      "02468\n",
      "13579\n",
      "05\n",
      "9876543210\n"
     ]
    }
   ],
   "source": [
    "# Step\n",
    "s = \"The quick brown fox jumps over the lazy dog.\"\n",
    "print(s[:3])\n",
    "print(s[4:9])\n",
    "print(s[-4:-1])\n",
    "print(s[16:])\n",
    "\n",
    "s = \"0123456789\"\n",
    "print(s[::2])\n",
    "print(s[1::2])\n",
    "print(s[::5])\n",
    "print(s[::-1])"
   ]
  },
  {
   "cell_type": "code",
   "execution_count": null,
   "metadata": {},
   "outputs": [],
   "source": [
    "# Negative indices"
   ]
  },
  {
   "cell_type": "code",
   "execution_count": null,
   "metadata": {},
   "outputs": [],
   "source": [
    "name = \"John\"\n",
    "print(f\"Hello {name}.\")\n"
   ]
  },
  {
   "cell_type": "markdown",
   "metadata": {},
   "source": [
    "## Escape Sequences\n",
    "\n",
    "Sequence of characters that have a meaning besides the literal characters."
   ]
  },
  {
   "cell_type": "code",
   "execution_count": 22,
   "metadata": {},
   "outputs": [
    {
     "name": "stdout",
     "output_type": "stream",
     "text": [
      "This is one line.\n",
      "This is another line.\n",
      "One entry\tSecond entry\tThird entry\n",
      "The boy said, \"hello.\"\n"
     ]
    }
   ],
   "source": [
    "# \\n - newline\n",
    "print(\"This is one line.\\nThis is another line.\")\n",
    "\n",
    "# \\t - tab\n",
    "print(\"One entry\\tSecond entry\\tThird entry\")\n",
    "\n",
    "\n",
    "# \\\" - inserts a literal double quote\n",
    "print(\"The boy said, \\\"hello.\\\"\")\n"
   ]
  },
  {
   "cell_type": "markdown",
   "metadata": {},
   "source": [
    "# Variables"
   ]
  },
  {
   "cell_type": "markdown",
   "metadata": {},
   "source": [
    "`=` -- assignment operator"
   ]
  },
  {
   "cell_type": "code",
   "execution_count": null,
   "metadata": {},
   "outputs": [],
   "source": [
    "message = \"Your time is up.\"\n",
    "\n",
    "# How do you properly name variables\n",
    "# Name them starting with a lowercase letter\n",
    "# Use underscore for spaces in names\n",
    "# Names of variables should be descriptive\n",
    "# e.g Abraham Lincoln's birthday\n",
    "abe_lincolns_birthday = \"idk\""
   ]
  },
  {
   "cell_type": "markdown",
   "metadata": {},
   "source": [
    "## Reassignment\n",
    "\n",
    "Give an existing variable a new value."
   ]
  },
  {
   "cell_type": "code",
   "execution_count": 1,
   "metadata": {},
   "outputs": [
    {
     "name": "stdout",
     "output_type": "stream",
     "text": [
      "Ubial\n",
      "Bruce Wayne\n"
     ]
    }
   ],
   "source": [
    "# Reassignment\n",
    "name = \"Ubial\"\n",
    "print(name)\n",
    "\n",
    "name = \"Bruce Wayne\"\n",
    "print(name)"
   ]
  },
  {
   "cell_type": "code",
   "execution_count": 2,
   "metadata": {},
   "outputs": [
    {
     "name": "stdout",
     "output_type": "stream",
     "text": [
      "Ubial\n"
     ]
    }
   ],
   "source": [
    "# Assigning a variable to another variable\n",
    "name = \"Ubial\"\n",
    "teacher = name\n",
    "\n",
    "print(teacher)"
   ]
  },
  {
   "cell_type": "markdown",
   "metadata": {},
   "source": [
    "## Updating Variables\n",
    "\n",
    "Updating the value of a variable"
   ]
  },
  {
   "cell_type": "code",
   "execution_count": 7,
   "metadata": {},
   "outputs": [
    {
     "name": "stdout",
     "output_type": "stream",
     "text": [
      "11\n",
      "22\n",
      "11.0\n"
     ]
    }
   ],
   "source": [
    "number_of_hats = 10\n",
    "number_of_hats += 1\n",
    "print(number_of_hats)\n",
    "\n",
    "number_of_hats *= 2\n",
    "print(number_of_hats)\n",
    "number_of_hats /= 2\n",
    "print(number_of_hats)\n",
    "\n",
    "\n",
    "\n",
    "# increment, decrement, multiplication, and division"
   ]
  },
  {
   "cell_type": "markdown",
   "metadata": {},
   "source": [
    "## Datatypes\n",
    "### What are some datatypes that we've seen?"
   ]
  },
  {
   "cell_type": "code",
   "execution_count": 2,
   "metadata": {},
   "outputs": [
    {
     "name": "stdout",
     "output_type": "stream",
     "text": [
      "15\n"
     ]
    }
   ],
   "source": [
    "# String\n",
    "\"Tim\"\n",
    "# f-strings\n",
    "f\"Ubial\"\n",
    "\n",
    "\n",
    "# OTHER DATATYPES\n",
    "10              # number -> integer (whole)\n",
    "10.0            # number -> float\n",
    "\n",
    "True\n",
    "False                              # boolean values\n",
    "[\"John\", \"Jennifer\", \"William\"]    # list\n",
    "\n",
    "\n",
    "#           key  : value        key  : val\n",
    "student = {\"name\": \"Jupiter\", \"grade\": 10, \"age\": 15}    # dictionary (like a list but key-value pairs)\n",
    "print(student[\"age\"])\n",
    "# e.g.\n",
    "student = {}"
   ]
  },
  {
   "cell_type": "markdown",
   "metadata": {},
   "source": [
    "### Casting\n",
    "What do we do to force Python to look at a string like it's a number?"
   ]
  },
  {
   "cell_type": "code",
   "execution_count": 5,
   "metadata": {},
   "outputs": [
    {
     "name": "stdout",
     "output_type": "stream",
     "text": [
      "21\n",
      "165\n"
     ]
    }
   ],
   "source": [
    "age = \"16\"\n",
    "# add 5 to the age\n",
    "\n",
    "# use a cast to force a value into another type\n",
    "print(int(age) + 5)  # int + int\n",
    "print(age + str(5))  # str + str"
   ]
  },
  {
   "cell_type": "code",
   "execution_count": 10,
   "metadata": {},
   "outputs": [
    {
     "name": "stdout",
     "output_type": "stream",
     "text": [
      "<class 'str'>\n",
      "<class 'int'>\n",
      "<class 'float'>\n",
      "<class 'list'>\n",
      "<class 'dict'>\n",
      "<class 'bool'>\n"
     ]
    }
   ],
   "source": [
    "# type() function\n",
    "age = \"15\"\n",
    "\n",
    "print(type(age))\n",
    "\n",
    "age = 15\n",
    "print(type(age))\n",
    "\n",
    "age = 15.0\n",
    "print(type(age))\n",
    "\n",
    "age = [15.0]\n",
    "print(type(age))\n",
    "\n",
    "age = {\"age\": 15}\n",
    "print(type(age))\n",
    "\n",
    "age = False\n",
    "print(type(age))"
   ]
  },
  {
   "cell_type": "code",
   "execution_count": 11,
   "metadata": {},
   "outputs": [
    {
     "name": "stdout",
     "output_type": "stream",
     "text": [
      "BLAAAAAAH!BLAAAAAAH!BLAAAAAAH!BLAAAAAAH!BLAAAAAAH!BLAAAAAAH!BLAAAAAAH!BLAAAAAAH!BLAAAAAAH!BLAAAAAAH!\n"
     ]
    }
   ],
   "source": [
    "# Mixing datatypes\n",
    "exclamation = \"BLAAAAAAH!\"\n",
    "print(exclamation * 10)"
   ]
  },
  {
   "cell_type": "markdown",
   "metadata": {},
   "source": [
    "# Statements and Expressions\n",
    "\n",
    "A **statement** is an instruction that Python can execute.  \n",
    "> Assignment (when we assign a value to a variable) is  \n",
    "a **statement**.\n",
    "\n",
    "> e.g. `date_of_birth = \"January 22\"`\n",
    "\n",
    "An **expression** is a statement that MUST BE EVALUATED.\n",
    "> e.g. `date_of_birth_and_year = date_of_birth + \" 2020\"`"
   ]
  },
  {
   "cell_type": "markdown",
   "metadata": {},
   "source": [
    "# Order of Operations\n",
    "\n",
    "BEDMAS\n",
    "1. Brackets\n",
    "2. Exponents\n",
    "3. Division and Multiplication\n",
    "4. The rest\n",
    "\n",
    "Evaluates from left-to-right, inside to outside"
   ]
  },
  {
   "cell_type": "code",
   "execution_count": 14,
   "metadata": {},
   "outputs": [
    {
     "name": "stdout",
     "output_type": "stream",
     "text": [
      "144.0\n",
      "144.0\n",
      "144\n",
      "144\n",
      "144\n"
     ]
    }
   ],
   "source": [
    "# E.g.\n",
    "print((4 + ( 23 - 4 + (32/2)) * 4))\n",
    "\n",
    "# Evaluation step-by-step\n",
    "print((4 + ( 23 - 4 + (32/2)) * 4))\n",
    "print((4 + ( 23 - 4 + 16) * 4))\n",
    "print((4 + ( 35) * 4))\n",
    "print((4 + 140))\n",
    "equation = 144"
   ]
  },
  {
   "cell_type": "code",
   "execution_count": 20,
   "metadata": {},
   "outputs": [
    {
     "name": "stdout",
     "output_type": "stream",
     "text": [
      "27\n",
      "3.3333333333333335\n",
      "3\n",
      "1\n",
      "2\n",
      "1.0\n",
      "0\n",
      "1\n",
      "0\n",
      "1\n",
      "0\n",
      "1\n",
      "2\n",
      "0\n"
     ]
    }
   ],
   "source": [
    "# Other Operators\n",
    "\n",
    "# Exponents **\n",
    "# e.g 3^3\n",
    "print(3 ** 3)\n",
    "\n",
    "# Floor division // (gives the result in an int)\n",
    "print(10 / 3)\n",
    "print(10 // 3)\n",
    "\n",
    "# Find the remainder % Modulo\n",
    "print(10 % 3)\n",
    "print(11 % 3)\n",
    "\n",
    "# e.g. use of Modulo -- calculating if something is divisible\n",
    "# Definition of an even number is if you can divide the num by 2 evenly\n",
    "print(2 / 2)\n",
    "print(2 % 2)\n",
    "print(3 % 2)\n",
    "print(4 % 2)\n",
    "print(5 % 2)\n",
    "print(6 % 2)\n",
    "\n",
    "print(1023045 % 2)\n",
    "print(1023045 % 7)\n",
    "print(1023050 % 7)"
   ]
  },
  {
   "cell_type": "markdown",
   "metadata": {},
   "source": [
    "## Input\n",
    "### How do we get input from a user?"
   ]
  },
  {
   "cell_type": "code",
   "execution_count": null,
   "metadata": {},
   "outputs": [],
   "source": [
    "# Use the input() function\n",
    "storage = input(\"what do you want to store\")\n",
    "print(f\"you stored {storage}.\")"
   ]
  },
  {
   "cell_type": "markdown",
   "metadata": {},
   "source": [
    "---\n",
    "---\n",
    "# Practice\n",
    "Take some time to work through the examples below for practice."
   ]
  },
  {
   "cell_type": "markdown",
   "metadata": {},
   "source": [
    "## Fahrenheit to Celsius\n",
    "Create a program that asks the user for a temperature in Fahrenheit, and then prints the temperature in Celsius.\n",
    "\n",
    "The formula for conversion is:  \n",
    "`C = (F − 32) × 5/9 `"
   ]
  },
  {
   "cell_type": "code",
   "execution_count": 25,
   "metadata": {},
   "outputs": [
    {
     "name": "stdin",
     "output_type": "stream",
     "text": [
      "what is the temperature today in fahrenheit? 80\n"
     ]
    },
    {
     "name": "stdout",
     "output_type": "stream",
     "text": [
      "That temperature in celsius is 26.666666666666668.\n"
     ]
    }
   ],
   "source": [
    "fahrenheit_temp = int(input(\"what is the temperature today in fahrenheit?\"))\n",
    "celsius_temp = ((fahrenheit_temp - 32) * 5 / 9)\n",
    "# celsius_in_words = str(celsius_temp)\n",
    "print(f\"That temperature in celsius is {celsius_temp}.\")\n"
   ]
  },
  {
   "cell_type": "markdown",
   "metadata": {},
   "source": [
    "## Radius of Circle\n",
    "\n",
    "Create a program that takes the radius of a circle and calculates its area.\n",
    "\n",
    "The formula to calculate the area is:  \n",
    "`A = pi * r ^ 2`  \n",
    "\n",
    "Note:  \n",
    "In order to use pi, **import the math module**.  \n",
    "It has the constant, pi, that you can use.\n",
    "You can use it by using `math.pi`."
   ]
  },
  {
   "cell_type": "code",
   "execution_count": 27,
   "metadata": {},
   "outputs": [
    {
     "name": "stdin",
     "output_type": "stream",
     "text": [
      "What is the radius of the circle? 5\n"
     ]
    },
    {
     "name": "stdout",
     "output_type": "stream",
     "text": [
      "The area of your circle is 78.53981633974483.\n"
     ]
    }
   ],
   "source": [
    "import math\n",
    "\n",
    "radius = int(input(\"What is the radius of the circle?\"))\n",
    "area = math.pi * radius ** 2\n",
    "print(f\"The area of your circle is {area}.\")"
   ]
  },
  {
   "cell_type": "markdown",
   "metadata": {},
   "source": [
    "## Compound Interest\n",
    "\n",
    "![Compound Interest](http://www.ourpursuitofperfection.com/wp-content/uploads/2017/06/compound-interest-formula-diagram.png)\n",
    "\n",
    "Write a Python program that has a **principal amount of 15000**, **compounds monthly** (n = 12), and has an **interest rate of 8%** (0.08). Then have the program ask the user for the number of years, t. Calculate and print the final amount after t years."
   ]
  },
  {
   "cell_type": "code",
   "execution_count": 13,
   "metadata": {},
   "outputs": [
    {
     "name": "stdout",
     "output_type": "stream",
     "text": [
      "Hi i will calculate your compound interest\n"
     ]
    },
    {
     "name": "stdin",
     "output_type": "stream",
     "text": [
      "How many years? 2\n"
     ]
    },
    {
     "name": "stdout",
     "output_type": "stream",
     "text": [
      "2\n",
      "Your total amount is $17593.32\n"
     ]
    }
   ],
   "source": [
    "print(\"Hi i will calculate your compound interest\")\n",
    "\n",
    "principal_amount = 15000\n",
    "monthly_compounds = 12\n",
    "interest_rate = .08\n",
    "user_years = int(input(\"How many years?\"))\n",
    "\n",
    "print(user_years)\n",
    "\n",
    "calculation = principal_amount * ((1 + (interest_rate / monthly_compounds)) ** (monthly_compounds * user_years))\n",
    "calculation_decimals = round(calculation, 2)\n",
    "\n",
    "print(f\"Your total amount is ${calculation_decimals}\")"
   ]
  },
  {
   "cell_type": "markdown",
   "metadata": {},
   "source": [
    "## Evaluating Expressions\n",
    "\n",
    "Evaluate the following expressions in your head. Use the code cell below to see if you're correct.\n",
    "\n",
    "    5 ** 2\n",
    "\n",
    "    9 * 5\n",
    "\n",
    "    15 / 12\n",
    "\n",
    "    12 / 15\n",
    "\n",
    "    15 // 12\n",
    "\n",
    "    12 // 15\n",
    "\n",
    "    5 % 2\n",
    "\n",
    "    9 % 5\n",
    "\n",
    "    15 % 12\n",
    "\n",
    "    12 % 15\n",
    "\n",
    "    6 % 6\n",
    "\n",
    "    0 % 7\n"
   ]
  },
  {
   "cell_type": "code",
   "execution_count": 1,
   "metadata": {},
   "outputs": [
    {
     "name": "stdout",
     "output_type": "stream",
     "text": [
      "25\n",
      "45\n",
      "1.25\n",
      "0.8\n",
      "1\n",
      "0\n",
      "1\n",
      "4\n",
      "3\n",
      "12\n",
      "0\n",
      "0\n"
     ]
    }
   ],
   "source": [
    "print(5 ** 2)\n",
    "\n",
    "print(9 * 5)\n",
    "\n",
    "print(15 / 12)\n",
    "\n",
    "print(12 / 15)\n",
    "\n",
    "print(15 // 12)\n",
    "\n",
    "print(12 // 15)\n",
    "\n",
    "print(5 % 2)\n",
    "\n",
    "print(9 % 5)\n",
    "\n",
    "print(15 % 12)\n",
    "\n",
    "print(12 % 15)\n",
    "\n",
    "print(6 % 6)\n",
    "\n",
    "print(0 % 7)"
   ]
  },
  {
   "cell_type": "markdown",
   "metadata": {},
   "source": [
    "## Order of Operations\n",
    "\n",
    "Evaluate the following expression using the proper order of operations used in Python.\n",
    "\n",
    "2 + (3 - 1) * 10 / 5 * (2 + 3)"
   ]
  },
  {
   "cell_type": "code",
   "execution_count": 28,
   "metadata": {},
   "outputs": [
    {
     "name": "stdout",
     "output_type": "stream",
     "text": [
      "22.0\n",
      "22.0\n",
      "22\n",
      "22\n",
      "22\n"
     ]
    }
   ],
   "source": [
    "print(2 + (3 - 1) * 10 / 5 * (2 + 3))\n",
    "print(2 + 2 * 10 / 5 * 5)\n",
    "print(2 + 20 / 5 * 5)\n",
    "print(2 + 4 * 5)\n",
    "print(2 + 20)\n",
    "print(22)"
   ]
  },
  {
   "cell_type": "markdown",
   "metadata": {},
   "source": [
    "## Translating Time and Alarms\n",
    "\n",
    "_Problem_: In Europe, time is generally told using the 24h clock (e.g. 11:00 is 11:00am and 23:00 is 11:00pm, 00:00 is midnight). Using this standard of time, if it is 13:00 and you set your alarm to go off in 50 hours, it will be 15:00 (3:00pm).\n",
    "\n",
    "Write a Python program in the code cell below to solve the general version of the above problem.  \n",
    "Ask the user for the time now (in hours), and then ask for the number of hours to wait for the alarm.  \n",
    "Your program should output what the time will be on the clock when the alarm goes off."
   ]
  },
  {
   "cell_type": "code",
   "execution_count": 30,
   "metadata": {},
   "outputs": [
    {
     "name": "stdin",
     "output_type": "stream",
     "text": [
      "What is the time right now in 24 hour clock form? 50\n",
      "What is the time right now in 24 hour clock form? 15\n",
      "How many hours before the alarm sounds 3\n"
     ]
    },
    {
     "name": "stdout",
     "output_type": "stream",
     "text": [
      "The time will be 18\n"
     ]
    }
   ],
   "source": [
    "time_now = int(input(\"What is the time right now in 24 hour clock form?\"))\n",
    "while time_now > 24:\n",
    "    time_now = int(input(\"What is the time right now in 24 hour clock form?\"))\n",
    "    \n",
    "hours_of_wait = int(input(\"How many hours before the alarm sounds\"))\n",
    "\n",
    "final_time = time_now + hours_of_wait\n",
    "\n",
    "if final_time > 24:\n",
    "    \n",
    "    \n",
    "print(f\"The time will be {time_now + hours_of_wait}\")\n",
    "\n",
    "\n",
    "\n"
   ]
  },
  {
   "cell_type": "code",
   "execution_count": null,
   "metadata": {},
   "outputs": [],
   "source": []
  }
 ],
 "metadata": {
  "kernelspec": {
   "display_name": "Python 3 (ipykernel)",
   "language": "python",
   "name": "python3"
  },
  "language_info": {
   "codemirror_mode": {
    "name": "ipython",
    "version": 3
   },
   "file_extension": ".py",
   "mimetype": "text/x-python",
   "name": "python",
   "nbconvert_exporter": "python",
   "pygments_lexer": "ipython3",
   "version": "3.8.2"
  }
 },
 "nbformat": 4,
 "nbformat_minor": 4
}
