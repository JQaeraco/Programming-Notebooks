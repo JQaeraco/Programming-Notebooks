{
 "cells": [
  {
   "cell_type": "markdown",
   "metadata": {},
   "source": [
    "# Control Statements\n",
    "\n",
    "![Hello!](https://media.giphy.com/media/ASd0Ukj0y3qMM/giphy.gif)"
   ]
  },
  {
   "cell_type": "markdown",
   "metadata": {},
   "source": [
    "# Skills\n",
    "* understand if statements\n",
    "* understand why we use elif instead of else in some cases"
   ]
  },
  {
   "cell_type": "markdown",
   "metadata": {},
   "source": [
    "## `if` statements\n",
    "We can branch code using control statements.  \n",
    "We can do that using `if` statements.\n",
    "\n",
    "![Branching from https://programarcadegames.com](http://programarcadegames.com/chapters/03_if_statements/flowchart1_thumb.png)"
   ]
  },
  {
   "cell_type": "code",
   "execution_count": 7,
   "metadata": {
    "tags": []
   },
   "outputs": [
    {
     "name": "stdin",
     "output_type": "stream",
     "text": [
      "First Value:  1\n",
      "Second Value:  10\n"
     ]
    },
    {
     "name": "stdout",
     "output_type": "stream",
     "text": [
      "b is less than a\n",
      "done\n"
     ]
    }
   ],
   "source": [
    "# ask the user for two values:\n",
    "# floats are decimal numbers\n",
    "# cast numbers as floats or ints\n",
    "a = float(input('First Value: '))\n",
    "b = float(input('Second Value: '))\n",
    "\n",
    "if a > b:\n",
    "    print(\"a is less than b\")\n",
    "elif a < b:\n",
    "    print(\"b is less than a\")\n",
    "\n",
    "\n",
    "print(\"done\")"
   ]
  },
  {
   "cell_type": "markdown",
   "metadata": {},
   "source": [
    "## `elif` and `else` "
   ]
  },
  {
   "cell_type": "code",
   "execution_count": null,
   "metadata": {},
   "outputs": [],
   "source": [
    "# get input from user\n",
    "x = float(input('Enter a number: '))\n",
    "\n",
    "if x > 100:\n",
    "    print(\"You got so many points.\")\n",
    "    print(\"Awesoe work!\")\n",
    "elif x > 90:\n",
    "    print(\"You got lots of points.\")\n",
    "    print(\"Well done!\")\n",
    "elif x > 70:\n",
    "    print(\"You got points good job.\")\n",
    "elif x > 50:\n",
    "    print(\"You'll get it next time!\")\n",
    "else:\n",
    "    print(\"You'll need to practice more.\")"
   ]
  },
  {
   "cell_type": "markdown",
   "metadata": {},
   "source": [
    "## Booleans\n",
    "\n",
    "**Booleans** are a _**datatype**_.  \n",
    "Their values are either `True` or `False` in Python.\n",
    "\n",
    "Note:  \n",
    "Know the distinction between `'True'` and `True`  \n",
    "and equally `'False'` and `False`"
   ]
  },
  {
   "cell_type": "markdown",
   "metadata": {},
   "source": [
    "### _Aside: Checking Data Types_\n",
    "\n",
    "If you want to check the type of data, use, the function `type()`."
   ]
  },
  {
   "cell_type": "code",
   "execution_count": null,
   "metadata": {},
   "outputs": [],
   "source": [
    "type(True)"
   ]
  },
  {
   "cell_type": "code",
   "execution_count": null,
   "metadata": {},
   "outputs": [],
   "source": [
    "type(\"True\")"
   ]
  },
  {
   "cell_type": "markdown",
   "metadata": {},
   "source": [
    "## Boolean Expressions\n",
    "\n",
    "Boolean expressions are operations that evaluate to booleans."
   ]
  },
  {
   "cell_type": "code",
   "execution_count": 4,
   "metadata": {},
   "outputs": [
    {
     "name": "stdout",
     "output_type": "stream",
     "text": [
      "False\n",
      "You'll need an umbrella.\n"
     ]
    }
   ],
   "source": [
    "is_raining = True\n",
    "is_cloudy = False\n",
    "\n",
    "print(is_raining and is_cloudy)\n",
    "\n",
    "if is_raining and is_cloudy or is_raining:\n",
    "    print(\"You'll need an umbrella.\")\n",
    "elif is_cloudy and not is_raining:\n",
    "    print(\"An umbrella is a good idea.\")\n",
    "else:\n",
    "    print(\"Leave your umbrella at home.\")"
   ]
  },
  {
   "cell_type": "markdown",
   "metadata": {},
   "source": [
    "## Boolean Variables\n",
    "\n",
    "Variables can be booleans as well."
   ]
  },
  {
   "cell_type": "code",
   "execution_count": null,
   "metadata": {},
   "outputs": [],
   "source": [
    "has_quest_item_one = False\n",
    "\n"
   ]
  },
  {
   "cell_type": "markdown",
   "metadata": {},
   "source": [
    "## Boolean Operators\n",
    "\n",
    "### Using `not`\n",
    "`not` is a unary operator  \n",
    "You only need **one operand**."
   ]
  },
  {
   "cell_type": "code",
   "execution_count": null,
   "metadata": {},
   "outputs": [],
   "source": [
    "not True"
   ]
  },
  {
   "cell_type": "markdown",
   "metadata": {},
   "source": [
    "### Using `and` and `or`\n",
    "`and` and `or` are binary operators.  \n",
    "You need **two operands** to use them.\n",
    "\n",
    "|AND  |True|False|\n",
    "|---  |---  |---  |\n",
    "|True |True |False|\n",
    "|False|False|False|\n",
    "\n",
    "|OR  |True|False|\n",
    "|---  |---  |---  |\n",
    "|True |True |True|\n",
    "|False|True|False|"
   ]
  },
  {
   "cell_type": "code",
   "execution_count": null,
   "metadata": {},
   "outputs": [],
   "source": [
    "True and True"
   ]
  },
  {
   "cell_type": "markdown",
   "metadata": {},
   "source": [
    "---\n",
    "# Practice Questions"
   ]
  },
  {
   "cell_type": "markdown",
   "metadata": {},
   "source": [
    "## 1. What's missing from this code?"
   ]
  },
  {
   "cell_type": "code",
   "execution_count": 5,
   "metadata": {},
   "outputs": [
    {
     "name": "stdin",
     "output_type": "stream",
     "text": [
      "Temperature:  4\n"
     ]
    },
    {
     "name": "stdout",
     "output_type": "stream",
     "text": [
      "It is not hot out.\n"
     ]
    }
   ],
   "source": [
    "temperature = int(input(f'Temperature: '))\n",
    "if temperature > 90:\n",
    "    print(f'It is hot outside.')\n",
    "else:\n",
    "    print(f'It is not hot out.')\n",
    "    \n",
    "# casting temperature into int"
   ]
  },
  {
   "cell_type": "markdown",
   "metadata": {},
   "source": [
    "## 2. What do you think this next code will print out?\n",
    "**Before you run the code,** take your best guess as to what it will print out.  \n",
    "Put your guess here: \n",
    "5\n",
    "False\n",
    "True\n",
    "Buzz"
   ]
  },
  {
   "cell_type": "code",
   "execution_count": 8,
   "metadata": {},
   "outputs": [
    {
     "name": "stdout",
     "output_type": "stream",
     "text": [
      "x=5\n",
      "y=False\n",
      "z=True\n",
      "Buzz\n"
     ]
    }
   ],
   "source": [
    "x = 5\n",
    "y = x == 6\n",
    "z = x == 5\n",
    "print(f'x={x}')   \n",
    "print(f'y={y}')    \n",
    "print(f'z={z}')    \n",
    "if y:\n",
    "    print(f'Fizz') \n",
    "if z:\n",
    "    print(f'Buzz')"
   ]
  },
  {
   "cell_type": "markdown",
   "metadata": {},
   "source": [
    "## 3. What do you think this code will print out?\n",
    "Again, **take an educated guess before running the code.**  \n",
    "Put your answers in inline comments beside the line of code.  \n",
    "There's an example below.\n",
    "If you're guess isn't right, try and figure out why it outputs what it does.\n",
    "\n",
    "Guess:\n",
    "True\n",
    "False\n",
    "True\n",
    "True\n",
    "False\n",
    "False\n",
    "False\n",
    "True\n",
    "False"
   ]
  },
  {
   "cell_type": "code",
   "execution_count": 9,
   "metadata": {},
   "outputs": [
    {
     "name": "stdout",
     "output_type": "stream",
     "text": [
      "True\n",
      "False\n",
      "True\n",
      "True\n",
      "True\n",
      "False\n",
      "False\n",
      "True\n"
     ]
    },
    {
     "ename": "TypeError",
     "evalue": "'<' not supported between instances of 'int' and 'str'",
     "output_type": "error",
     "traceback": [
      "\u001b[0;31m---------------------------------------------------------------------------\u001b[0m",
      "\u001b[0;31mTypeError\u001b[0m                                 Traceback (most recent call last)",
      "\u001b[0;32m/var/folders/hr/ghll8b0s2mndg7nggdfm0c300000gw/T/ipykernel_3770/500153270.py\u001b[0m in \u001b[0;36m<module>\u001b[0;34m\u001b[0m\n\u001b[1;32m      7\u001b[0m \u001b[0mprint\u001b[0m\u001b[0;34m(\u001b[0m \u001b[0;34m(\u001b[0m\u001b[0;36m2\u001b[0m \u001b[0;34m==\u001b[0m \u001b[0;36m2\u001b[0m\u001b[0;34m)\u001b[0m \u001b[0;34m==\u001b[0m \u001b[0;34m\"True\"\u001b[0m \u001b[0;34m)\u001b[0m\u001b[0;34m\u001b[0m\u001b[0;34m\u001b[0m\u001b[0m\n\u001b[1;32m      8\u001b[0m \u001b[0mprint\u001b[0m\u001b[0;34m(\u001b[0m \u001b[0;34m(\u001b[0m\u001b[0;36m2\u001b[0m \u001b[0;34m==\u001b[0m \u001b[0;36m2\u001b[0m\u001b[0;34m)\u001b[0m \u001b[0;34m==\u001b[0m \u001b[0;32mTrue\u001b[0m \u001b[0;34m)\u001b[0m\u001b[0;34m\u001b[0m\u001b[0;34m\u001b[0m\u001b[0m\n\u001b[0;32m----> 9\u001b[0;31m \u001b[0mprint\u001b[0m\u001b[0;34m(\u001b[0m\u001b[0;36m3\u001b[0m \u001b[0;34m<\u001b[0m \u001b[0;34m\"3\"\u001b[0m\u001b[0;34m)\u001b[0m\u001b[0;34m\u001b[0m\u001b[0;34m\u001b[0m\u001b[0m\n\u001b[0m",
      "\u001b[0;31mTypeError\u001b[0m: '<' not supported between instances of 'int' and 'str'"
     ]
    }
   ],
   "source": [
    "print(\"3\" == \"3\")           \n",
    "print(\" 3\" == \"3\")          \n",
    "print(3 < 4)                \n",
    "print(3 < 10)               \n",
    "print(\"3\" < \"4\")            #Gotchas\n",
    "print(\"3\" < \"10\")           #Gotches\n",
    "print( (2 == 2) == \"True\" )\n",
    "print( (2 == 2) == True )   \n",
    "print(3 < \"3\")              "
   ]
  },
  {
   "cell_type": "markdown",
   "metadata": {},
   "source": [
    "---\n",
    "# Exercise\n",
    "\n",
    "Create your own quiz with five or more questions. You can ask questions that require:\n",
    "1. a number as an answer (e.g., What is 1+1?)\n",
    "2. text (e.g. What is Harry Potter's last name?)\n",
    "3. a selection (Which of these choices are correct? A, B, or C?) \n",
    "\n",
    "If you have the user enter non-numeric answers, think and cover the different ways a user could enter a correct answer. For example, if the answer is “a”, would “A” also be acceptable? \n",
    "1. Let the user know if he or she gets the question correct. Print a message depending on the user's answer.\n",
    "2. You need to keep track of how many questions they get correct.\n",
    "3. At the end of the program print the percentage of questions the user gets right."
   ]
  },
  {
   "cell_type": "code",
   "execution_count": 2,
   "metadata": {},
   "outputs": [
    {
     "name": "stdout",
     "output_type": "stream",
     "text": [
      "Hello, Welcome to my quiz. \n",
      "I will be asking you five questions \n",
      "and we'll see what your percentage is at the end!\n",
      "\n",
      "\n"
     ]
    },
    {
     "name": "stdin",
     "output_type": "stream",
     "text": [
      "What is 121 + 190?\n",
      " th\n"
     ]
    },
    {
     "name": "stdout",
     "output_type": "stream",
     "text": [
      "Wrong..........\n",
      "\n"
     ]
    },
    {
     "name": "stdin",
     "output_type": "stream",
     "text": [
      "What month does Christmas fall on?\n",
      " december\n"
     ]
    },
    {
     "name": "stdout",
     "output_type": "stream",
     "text": [
      "You got it right!\n",
      "\n"
     ]
    },
    {
     "name": "stdin",
     "output_type": "stream",
     "text": [
      "What type of cell contains no membrane bound organelles? idk\n"
     ]
    },
    {
     "name": "stdout",
     "output_type": "stream",
     "text": [
      "Wrong..........\n",
      "\n"
     ]
    },
    {
     "name": "stdin",
     "output_type": "stream",
     "text": [
      "how many net ATP does glycosis produce? 4\n"
     ]
    },
    {
     "name": "stdout",
     "output_type": "stream",
     "text": [
      "Glycosis does produce 4 ATP but I was asking for the net amount.\n",
      "Sorry, you are wrong.\n",
      "\n"
     ]
    },
    {
     "name": "stdin",
     "output_type": "stream",
     "text": [
      "Where does the Calvin Cycle occur in the chloroplast? stroma\n"
     ]
    },
    {
     "name": "stdout",
     "output_type": "stream",
     "text": [
      "Good Job\n",
      "\n"
     ]
    },
    {
     "name": "stdin",
     "output_type": "stream",
     "text": [
      "A portion of the Earth where living things exist is called:\n",
      "\n",
      "A) Biosphere\n",
      "B) Ecosystem\n",
      "C) Population\n",
      "\n",
      "Pick one of these letter:  A\n"
     ]
    },
    {
     "name": "stdout",
     "output_type": "stream",
     "text": [
      "WOOHOO!! WOW YOU GOT THAT RIGHT!!!\n",
      "You got 0% right.\n",
      "Thank you for particitpating in my quiz.\n"
     ]
    }
   ],
   "source": [
    "\n",
    "print(\"\"\"Hello, Welcome to my quiz. \n",
    "I will be asking you five questions \n",
    "and we'll see what your percentage is at the end!\n",
    "\n",
    "\"\"\")\n",
    "\n",
    "score = 0\n",
    "\n",
    "question = input(\"What is 121 + 190?\\n\")\n",
    "\n",
    "if question == \"311\":\n",
    "    print(\"Bingo! You nailed that question!\\n\")\n",
    "    score += 1\n",
    "else:\n",
    "    print(\"Wrong..........\\n\")\n",
    "\n",
    "question = input(\"What month does Christmas fall on?\\n\").lower().strip(\"!?. \")\n",
    "\n",
    "if question == \"december\":\n",
    "    print(\"You got it right!\\n\")\n",
    "    score += 1\n",
    "else:\n",
    "    print(\"incorrect.............\\n\")\n",
    "\n",
    "question = input(\"What type of cell contains no membrane bound organelles?\").lower().strip(\"!?. \")\n",
    "\n",
    "if question in (\"prokaryotic cell\", \"prokaryotes\", \"prokaryotic cells\", \"prokaryote\"):\n",
    "    print(\"You got that one correct!\\n\")\n",
    "    score += 1\n",
    "elif question in (\"eukaryotic cell\", \"eukaryotes\", \"eukaryotic cells\", \"eukaryote\"):\n",
    "    print(\"\"\"Close, \n",
    "    but eukaryotic cells are the type of cells that contain membrane bound organelles. \n",
    "    Wrong.\n",
    "    \"\"\")\n",
    "else:\n",
    "    print(\"Wrong..........\\n\")\n",
    "\n",
    "question = input(\"how many net ATP does glycosis produce?\").lower().strip(\"!?. \")\n",
    "\n",
    "if question == \"2\" or question == \"two\":\n",
    "    print(\"Nice job!\\n\")\n",
    "    score += 1\n",
    "elif question == \"4\" or question == \"four\":\n",
    "    print(\"Glycosis does produce 4 ATP but I was asking for the net amount.\\nSorry, you are wrong.\\n\")\n",
    "else:\n",
    "    print(\"Invalid.............\\n\")\n",
    "    \n",
    "question = input(\"Where does the Calvin Cycle occur in the chloroplast?\").lower().strip(\"!?. \")\n",
    "\n",
    "if question == \"stroma\":\n",
    "    print(\"Good Job\\n\")\n",
    "    score += 1\n",
    "elif question == \"stomata\":\n",
    "    print(\"Incorrect. Stomata sounds kinda like stroma, but it is not.\\n\")\n",
    "else:\n",
    "    print(\"Err!\\n\")\n",
    "\n",
    "question = input(\"\"\"A portion of the Earth where living things exist is called:\n",
    "\n",
    "A) Biosphere\n",
    "B) Ecosystem\n",
    "C) Population\n",
    "\n",
    "Pick one of these letter: \"\"\").lower().strip(\"!?. \")    \n",
    "    \n",
    "if question == \"a\":\n",
    "    print(\"WOOHOO!! WOW YOU GOT THAT RIGHT!!!\")\n",
    "    score += 1\n",
    "elif question == \"b\": \n",
    "    print(\"Yea I thought that as well, but it's wrong. ERR.\")\n",
    "elif question == \"c\":\n",
    "    print(\"Im sorry, that choice is wrong.\")\n",
    "else:\n",
    "    print(\"You did not pick one of this letters, so you got this question wrong\")\n",
    "                 \n",
    "                 \n",
    "percentage = (score / 6) * 100\n",
    "print(f\"You got {percentage}% right.\")\n",
    "print(\"Thank you for particitpating in my quiz.\")"
   ]
  },
  {
   "cell_type": "markdown",
   "metadata": {},
   "source": [
    "# Requirements\n",
    "\n",
    "* Has five or more questions \n",
    "* Give the user feedback per question \n",
    "* Keep track of correct answers\n",
    "* Give them their outcome at the end\n",
    "* Should follow *style guidelines* for naming of variables and use of whitespace -- **READABILITY**"
   ]
  },
  {
   "cell_type": "code",
   "execution_count": null,
   "metadata": {},
   "outputs": [],
   "source": []
  }
 ],
 "metadata": {
  "kernelspec": {
   "display_name": "Python 3 (ipykernel)",
   "language": "python",
   "name": "python3"
  },
  "language_info": {
   "codemirror_mode": {
    "name": "ipython",
    "version": 3
   },
   "file_extension": ".py",
   "mimetype": "text/x-python",
   "name": "python",
   "nbconvert_exporter": "python",
   "pygments_lexer": "ipython3",
   "version": "3.8.9"
  }
 },
 "nbformat": 4,
 "nbformat_minor": 4
}
